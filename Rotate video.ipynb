{
 "cells": [
  {
   "cell_type": "markdown",
   "metadata": {},
   "source": [
    "### Rotate video (90)"
   ]
  },
  {
   "cell_type": "code",
   "execution_count": 1,
   "metadata": {},
   "outputs": [
    {
     "name": "stdout",
     "output_type": "stream",
     "text": [
      "['output2.avi', 'output1.avi']\n"
     ]
    }
   ],
   "source": [
    "import numpy as np\n",
    "import cv2\n",
    "import os\n",
    "\n",
    "video_dir = \"/home/topica/test_rotate_video\"\n",
    "out_dir = \"/home/topica/out_rotate\"\n",
    "video_list = os.listdir(video_dir)\n",
    "print(video_list)\n",
    "for i in range(len(video_list)):\n",
    "    video_path = os.path.join(video_dir, video_list[i])\n",
    "    cap = cv2.VideoCapture(video_path)\n",
    "    frame_width = int( cap.get(cv2.CAP_PROP_FRAME_WIDTH))\n",
    "    frame_height =int( cap.get( cv2.CAP_PROP_FRAME_HEIGHT))\n",
    "    # Define the codec and create VideoWriter object\n",
    "    fourcc = cv2.VideoWriter_fourcc(*'MJPG')\n",
    "    out_path = os.path.join(out_dir,video_list[i])\n",
    "    out = cv2.VideoWriter(out_path,fourcc, 20.0, (frame_height,frame_width))\n",
    "    frame = 0\n",
    "    while(True):\n",
    "        ret, img = cap.read()\n",
    "        if ret==True:\n",
    "            rotated90 = cv2.rotate(img, rotateCode=cv2.ROTATE_90_CLOCKWISE)\n",
    "            out.write(rotated90)\n",
    "#             cv2.imshow('rotated90',rotated90)\n",
    "            if cv2.waitKey(1) & 0xFF == ord('q'):\n",
    "                break\n",
    "        else:\n",
    "            break\n",
    "        frame = frame + 1\n",
    "    # Release everything if job is finishedq\n",
    "    cap.release()\n",
    "    out.release()\n",
    "#     cv2.destroyAllWindows()"
   ]
  },
  {
   "cell_type": "markdown",
   "metadata": {},
   "source": [
    "## Create video to test"
   ]
  },
  {
   "cell_type": "code",
   "execution_count": null,
   "metadata": {},
   "outputs": [],
   "source": [
    "\n",
    "import numpy as np\n",
    "import cv2\n",
    "\n",
    "cap = cv2.VideoCapture(0)\n",
    "\n",
    "# Define the codec and create VideoWriter object\n",
    "fourcc = cv2.VideoWriter_fourcc(*'XVID')\n",
    "out = cv2.VideoWriter('output2.avi',fourcc, 20.0, (640,480))\n",
    "\n",
    "while(cap.isOpened()):\n",
    "    ret, frame = cap.read()\n",
    "    if ret==True:\n",
    "#         frame = cv2.flip(frame,0)\n",
    "\n",
    "        # write the flipped frame\n",
    "        out.write(frame)\n",
    "\n",
    "        cv2.imshow('frame',frame)\n",
    "        if cv2.waitKey(1) & 0xFF == ord('q'):\n",
    "            break\n",
    "    else:\n",
    "        break\n",
    "\n",
    "# Release everything if job is finished\n",
    "cap.release()\n",
    "out.release()\n",
    "cv2.destroyAllWindows()"
   ]
  },
  {
   "cell_type": "code",
   "execution_count": null,
   "metadata": {},
   "outputs": [],
   "source": []
  }
 ],
 "metadata": {
  "kernelspec": {
   "display_name": "Python 3",
   "language": "python",
   "name": "python3"
  },
  "language_info": {
   "codemirror_mode": {
    "name": "ipython",
    "version": 3
   },
   "file_extension": ".py",
   "mimetype": "text/x-python",
   "name": "python",
   "nbconvert_exporter": "python",
   "pygments_lexer": "ipython3",
   "version": "3.7.3"
  }
 },
 "nbformat": 4,
 "nbformat_minor": 2
}
